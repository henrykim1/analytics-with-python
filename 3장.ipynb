{
 "cells": [
  {
   "cell_type": "code",
   "execution_count": 3,
   "metadata": {},
   "outputs": [
    {
     "name": "stdout",
     "output_type": "stream",
     "text": [
      "Number of worksheets: 3\n",
      "Worksheet name: january_2013 \tRows: 7 \tColumns: 5\n",
      "Worksheet name: february_2013 \tRows: 7 \tColumns: 5\n",
      "Worksheet name: march_2013 \tRows: 7 \tColumns: 5\n"
     ]
    }
   ],
   "source": [
    "#!/usr/bin/env python3\n",
    "import sys\n",
    "from xlrd import open_workbook\n",
    "\n",
    "input_file = '/Users/henry/Desktop/sales_2013.xlsx'\n",
    "\n",
    "workbook = open_workbook(input_file)\n",
    "print('Number of worksheets:', workbook.nsheets)\n",
    "for worksheet in workbook.sheets():\n",
    "    print(\"Worksheet name:\", worksheet.name, \"\\tRows:\", worksheet.nrows, \"\\tColumns:\", worksheet.ncols)"
   ]
  },
  {
   "cell_type": "code",
   "execution_count": 5,
   "metadata": {},
   "outputs": [
    {
     "name": "stdout",
     "output_type": "stream",
     "text": [
      "Customer ID\n",
      "Customer Name\n",
      "Invoice Number\n",
      "Sale Amount\n",
      "Purchase Date\n",
      "1234.0\n",
      "John Smith\n",
      "100-0002\n",
      "1200.0\n",
      "41275.0\n",
      "2345.0\n",
      "Mary Harrison\n",
      "100-0003\n",
      "1425.0\n",
      "41280.0\n",
      "3456.0\n",
      "Lucy Gomez\n",
      "100-0004\n",
      "1390.0\n",
      "41285.0\n",
      "4567.0\n",
      "Rupert Jones\n",
      "100-0005\n",
      "1257.0\n",
      "41282.0\n",
      "5678.0\n",
      "Jenny Walters\n",
      "100-0006\n",
      "1725.0\n",
      "41298.0\n",
      "6789.0\n",
      "Samantha Donaldson\n",
      "100-0007\n",
      "1995.0\n",
      "41305.0\n"
     ]
    }
   ],
   "source": [
    "#!/usr/bin/env python3\n",
    "import sys\n",
    "from xlrd import open_workbook\n",
    "from xlwt import Workbook\n",
    "\n",
    "input_file = '/Users/henry/Desktop/sales_2013.xlsx'\n",
    "output_file = '/Users/henry/Desktop/sales_2013_good.xls'\n",
    "\n",
    "output_workbook = Workbook() #워크북은 엑셀 빈 파일을 지정한다.\n",
    "output_worksheet = output_workbook.add_sheet('jan_2013_output')  #얘는 시트를 생성한거다.\n",
    "\n",
    "with open_workbook(input_file) as workbook:\n",
    "    worksheet = workbook.sheet_by_name('january_2013')\n",
    "    for row_index in range(worksheet.nrows): #0,1,2,3,4,5,6하고 칼럼을 돈다. \n",
    "        for column_index in range(worksheet.ncols):\n",
    "            output_worksheet.write(row_index, column_index, worksheet.cell_value(row_index, column_index))\n",
    "            print(worksheet.cell_value(row_index, column_index))"
   ]
  },
  {
   "cell_type": "code",
   "execution_count": 8,
   "metadata": {},
   "outputs": [
    {
     "ename": "Exception",
     "evalue": "Unexpected data type <class 'int'>",
     "output_type": "error",
     "traceback": [
      "\u001b[0;31m---------------------------------------------------------------------------\u001b[0m",
      "\u001b[0;31mException\u001b[0m                                 Traceback (most recent call last)",
      "\u001b[0;32m<ipython-input-8-5303b04d58a2>\u001b[0m in \u001b[0;36m<module>\u001b[0;34m()\u001b[0m\n\u001b[1;32m     20\u001b[0m                 \u001b[0mdeta_cell\u001b[0m \u001b[0;34m=\u001b[0m \u001b[0mdate\u001b[0m\u001b[0;34m(\u001b[0m\u001b[0;34m*\u001b[0m\u001b[0mdate_cell\u001b[0m\u001b[0;34m[\u001b[0m\u001b[0;36m0\u001b[0m\u001b[0;34m:\u001b[0m\u001b[0;36m3\u001b[0m\u001b[0;34m]\u001b[0m\u001b[0;34m)\u001b[0m\u001b[0;34m.\u001b[0m\u001b[0mstrftime\u001b[0m\u001b[0;34m(\u001b[0m\u001b[0;34m'%m/%d/%y'\u001b[0m\u001b[0;34m)\u001b[0m\u001b[0;34m\u001b[0m\u001b[0m\n\u001b[1;32m     21\u001b[0m                 \u001b[0mrow_list_output\u001b[0m\u001b[0;34m.\u001b[0m\u001b[0mappend\u001b[0m\u001b[0;34m(\u001b[0m\u001b[0mdate_cell\u001b[0m\u001b[0;34m)\u001b[0m\u001b[0;34m\u001b[0m\u001b[0m\n\u001b[0;32m---> 22\u001b[0;31m                 \u001b[0moutput_worksheet\u001b[0m\u001b[0;34m.\u001b[0m\u001b[0mwrite\u001b[0m\u001b[0;34m(\u001b[0m\u001b[0mrow_index\u001b[0m\u001b[0;34m,\u001b[0m \u001b[0mcol_index\u001b[0m\u001b[0;34m,\u001b[0m \u001b[0mdate_cell\u001b[0m\u001b[0;34m)\u001b[0m\u001b[0;34m\u001b[0m\u001b[0m\n\u001b[0m\u001b[1;32m     23\u001b[0m             \u001b[0;32melse\u001b[0m\u001b[0;34m:\u001b[0m\u001b[0;34m\u001b[0m\u001b[0m\n\u001b[1;32m     24\u001b[0m                 \u001b[0mnon_date_cell\u001b[0m \u001b[0;34m=\u001b[0m \u001b[0mworksheet\u001b[0m\u001b[0;34m.\u001b[0m\u001b[0mcell_value\u001b[0m\u001b[0;34m(\u001b[0m\u001b[0mrow_index\u001b[0m\u001b[0;34m,\u001b[0m \u001b[0mcol_index\u001b[0m\u001b[0;34m)\u001b[0m\u001b[0;34m\u001b[0m\u001b[0m\n",
      "\u001b[0;32m~/anaconda3/lib/python3.6/site-packages/xlwt/Worksheet.py\u001b[0m in \u001b[0;36mwrite\u001b[0;34m(self, r, c, label, style)\u001b[0m\n\u001b[1;32m   1086\u001b[0m            \u001b[0;34m:\u001b[0m\u001b[0;32mclass\u001b[0m\u001b[0;34m:\u001b[0m\u001b[0;31m`\u001b[0m\u001b[0;34m~\u001b[0m\u001b[0mxlwt\u001b[0m\u001b[0;34m.\u001b[0m\u001b[0mStyle\u001b[0m\u001b[0;34m.\u001b[0m\u001b[0mXFStyle\u001b[0m\u001b[0;31m`\u001b[0m \u001b[0mobject\u001b[0m\u001b[0;34m.\u001b[0m\u001b[0;34m\u001b[0m\u001b[0m\n\u001b[1;32m   1087\u001b[0m         \"\"\"\n\u001b[0;32m-> 1088\u001b[0;31m         \u001b[0mself\u001b[0m\u001b[0;34m.\u001b[0m\u001b[0mrow\u001b[0m\u001b[0;34m(\u001b[0m\u001b[0mr\u001b[0m\u001b[0;34m)\u001b[0m\u001b[0;34m.\u001b[0m\u001b[0mwrite\u001b[0m\u001b[0;34m(\u001b[0m\u001b[0mc\u001b[0m\u001b[0;34m,\u001b[0m \u001b[0mlabel\u001b[0m\u001b[0;34m,\u001b[0m \u001b[0mstyle\u001b[0m\u001b[0;34m)\u001b[0m\u001b[0;34m\u001b[0m\u001b[0m\n\u001b[0m\u001b[1;32m   1089\u001b[0m \u001b[0;34m\u001b[0m\u001b[0m\n\u001b[1;32m   1090\u001b[0m     \u001b[0;32mdef\u001b[0m \u001b[0mwrite_rich_text\u001b[0m\u001b[0;34m(\u001b[0m\u001b[0mself\u001b[0m\u001b[0;34m,\u001b[0m \u001b[0mr\u001b[0m\u001b[0;34m,\u001b[0m \u001b[0mc\u001b[0m\u001b[0;34m,\u001b[0m \u001b[0mrich_text_list\u001b[0m\u001b[0;34m,\u001b[0m \u001b[0mstyle\u001b[0m\u001b[0;34m=\u001b[0m\u001b[0mStyle\u001b[0m\u001b[0;34m.\u001b[0m\u001b[0mdefault_style\u001b[0m\u001b[0;34m)\u001b[0m\u001b[0;34m:\u001b[0m\u001b[0;34m\u001b[0m\u001b[0m\n",
      "\u001b[0;32m~/anaconda3/lib/python3.6/site-packages/xlwt/Row.py\u001b[0m in \u001b[0;36mwrite\u001b[0;34m(self, col, label, style)\u001b[0m\n\u001b[1;32m    256\u001b[0m             \u001b[0mself\u001b[0m\u001b[0;34m.\u001b[0m\u001b[0minsert_cell\u001b[0m\u001b[0;34m(\u001b[0m\u001b[0mcol\u001b[0m\u001b[0;34m,\u001b[0m \u001b[0mFormulaCell\u001b[0m\u001b[0;34m(\u001b[0m\u001b[0mself\u001b[0m\u001b[0;34m.\u001b[0m\u001b[0m__idx\u001b[0m\u001b[0;34m,\u001b[0m \u001b[0mcol\u001b[0m\u001b[0;34m,\u001b[0m \u001b[0mstyle_index\u001b[0m\u001b[0;34m,\u001b[0m \u001b[0mlabel\u001b[0m\u001b[0;34m)\u001b[0m\u001b[0;34m)\u001b[0m\u001b[0;34m\u001b[0m\u001b[0m\n\u001b[1;32m    257\u001b[0m         \u001b[0;32melif\u001b[0m \u001b[0misinstance\u001b[0m\u001b[0;34m(\u001b[0m\u001b[0mlabel\u001b[0m\u001b[0;34m,\u001b[0m \u001b[0;34m(\u001b[0m\u001b[0mlist\u001b[0m\u001b[0;34m,\u001b[0m \u001b[0mtuple\u001b[0m\u001b[0;34m)\u001b[0m\u001b[0;34m)\u001b[0m\u001b[0;34m:\u001b[0m\u001b[0;34m\u001b[0m\u001b[0m\n\u001b[0;32m--> 258\u001b[0;31m             \u001b[0mself\u001b[0m\u001b[0;34m.\u001b[0m\u001b[0m__rich_text_helper\u001b[0m\u001b[0;34m(\u001b[0m\u001b[0mcol\u001b[0m\u001b[0;34m,\u001b[0m \u001b[0mlabel\u001b[0m\u001b[0;34m,\u001b[0m \u001b[0mstyle\u001b[0m\u001b[0;34m,\u001b[0m \u001b[0mstyle_index\u001b[0m\u001b[0;34m)\u001b[0m\u001b[0;34m\u001b[0m\u001b[0m\n\u001b[0m\u001b[1;32m    259\u001b[0m         \u001b[0;32melse\u001b[0m\u001b[0;34m:\u001b[0m\u001b[0;34m\u001b[0m\u001b[0m\n\u001b[1;32m    260\u001b[0m             \u001b[0;32mraise\u001b[0m \u001b[0mException\u001b[0m\u001b[0;34m(\u001b[0m\u001b[0;34m\"Unexpected data type %r\"\u001b[0m \u001b[0;34m%\u001b[0m \u001b[0mtype\u001b[0m\u001b[0;34m(\u001b[0m\u001b[0mlabel\u001b[0m\u001b[0;34m)\u001b[0m\u001b[0;34m)\u001b[0m\u001b[0;34m\u001b[0m\u001b[0m\n",
      "\u001b[0;32m~/anaconda3/lib/python3.6/site-packages/xlwt/Row.py\u001b[0m in \u001b[0;36m__rich_text_helper\u001b[0;34m(self, col, rich_text_list, style, style_index)\u001b[0m\n\u001b[1;32m    282\u001b[0m                 \u001b[0mfont\u001b[0m \u001b[0;34m=\u001b[0m \u001b[0mself\u001b[0m\u001b[0;34m.\u001b[0m\u001b[0m__parent_wb\u001b[0m\u001b[0;34m.\u001b[0m\u001b[0madd_font\u001b[0m\u001b[0;34m(\u001b[0m\u001b[0mdata\u001b[0m\u001b[0;34m[\u001b[0m\u001b[0;36m1\u001b[0m\u001b[0;34m]\u001b[0m\u001b[0;34m)\u001b[0m\u001b[0;34m\u001b[0m\u001b[0m\n\u001b[1;32m    283\u001b[0m             \u001b[0;32melse\u001b[0m\u001b[0;34m:\u001b[0m\u001b[0;34m\u001b[0m\u001b[0m\n\u001b[0;32m--> 284\u001b[0;31m                 \u001b[0;32mraise\u001b[0m \u001b[0mException\u001b[0m \u001b[0;34m(\u001b[0m\u001b[0;34m\"Unexpected data type %r\"\u001b[0m \u001b[0;34m%\u001b[0m \u001b[0mtype\u001b[0m\u001b[0;34m(\u001b[0m\u001b[0mdata\u001b[0m\u001b[0;34m)\u001b[0m\u001b[0;34m)\u001b[0m\u001b[0;34m\u001b[0m\u001b[0m\n\u001b[0m\u001b[1;32m    285\u001b[0m             \u001b[0;32mif\u001b[0m \u001b[0ms\u001b[0m\u001b[0;34m:\u001b[0m\u001b[0;34m\u001b[0m\u001b[0m\n\u001b[1;32m    286\u001b[0m                 \u001b[0mrt\u001b[0m\u001b[0;34m.\u001b[0m\u001b[0mappend\u001b[0m\u001b[0;34m(\u001b[0m\u001b[0;34m(\u001b[0m\u001b[0ms\u001b[0m\u001b[0;34m,\u001b[0m \u001b[0mfont\u001b[0m\u001b[0;34m)\u001b[0m\u001b[0;34m)\u001b[0m\u001b[0;34m\u001b[0m\u001b[0m\n",
      "\u001b[0;31mException\u001b[0m: Unexpected data type <class 'int'>"
     ]
    }
   ],
   "source": [
    "#!/usr/bin/env python3\n",
    "import sys\n",
    "from datetime import date\n",
    "from xlrd import open_workbook, xldate_as_tuple\n",
    "from xlwt import Workbook\n",
    "\n",
    "input_file = '/Users/henry/Desktop/sales_2013.xlsx'\n",
    "output_file = '/Users/henry/Desktop/sales_2013_hi.xls'\n",
    "\n",
    "output_workbook = Workbook()\n",
    "output_worksheet = output_workbook.add_sheet('jan_2013_output')\n",
    "\n",
    "with open_workbook(input_file) as workbook:\n",
    "    worksheet = workbook.sheet_by_name('january_2013')\n",
    "    for row_index in range(worksheet.nrows):\n",
    "        row_list_output = []\n",
    "        for col_index in range(worksheet.ncols):\n",
    "            if worksheet.cell_type(row_index, col_index) == 3:\n",
    "                date_cell = xldate_as_tuple(worksheet.cell_value(row_index, col_index), workbook.datemode)\n",
    "                deta_cell = date(*date_cell[0:3]).strftime('%m/%d/%y')\n",
    "                row_list_output.append(date_cell)\n",
    "                output_worksheet.write(row_index, col_index, date_cell)\n",
    "            else:\n",
    "                non_date_cell = worksheet.cell_value(row_index, col_index)\n",
    "                row_list_output.append(non_date_cell)\n",
    "                output_worksheet.write(row_index, col_index, non_date_cell)\n",
    "output_workbook.save(output_file)\n",
    "                    "
   ]
  },
  {
   "cell_type": "code",
   "execution_count": 9,
   "metadata": {
    "collapsed": true
   },
   "outputs": [],
   "source": [
    "#!/usr/bin/env python3\n",
    "import pandas as pd\n",
    "import sys\n",
    "\n",
    "input_file = '/Users/henry/Desktop/sales_2013.xlsx'\n",
    "output_file = '/Users/henry/Desktop/sales_2013_shit.xls'\n",
    "\n",
    "data_frame = pd.read_excel(input_file, sheetname='january_2013')\n",
    "\n",
    "writer = pd.ExcelWriter(output_file)\n",
    "data_frame.to_excel(writer, sheet_name='jan_13_output', index=False)\n",
    "writer.save()"
   ]
  },
  {
   "cell_type": "code",
   "execution_count": 15,
   "metadata": {
    "collapsed": true
   },
   "outputs": [],
   "source": [
    "#!/usr/bin/env python3\n",
    "import sys\n",
    "from datetime import date\n",
    "from xlrd import open_workbook, xldate_as_tuple\n",
    "from xlwt import Workbook\n",
    "\n",
    "input_file = '/Users/henry/Desktop/sales_2013.xlsx'\n",
    "output_file = '/Users/henry/Desktop/sales_2013_hell.xls'\n",
    "\n",
    "output_wirkbook = Workbook()\n",
    "output_worksheet = output_workbook.add_sheet('jan_2013_output4')\n",
    "\n",
    "sale_amount_column_index = 3\n",
    "with open_workbook(input_file) as workbook:\n",
    "    worksheet = workbook.sheet_by_name('january_2013')\n",
    "    data = []\n",
    "    header = worksheet.row_values(0)\n",
    "    data.append(header)\n",
    "    for row_index in range(1,worksheet.nrows):\n",
    "        row_list = []\n",
    "        sale_amount = worksheet.cell_value(row_index, sale_amount_column_index)\n",
    "        if sale_amount > 1400.0:\n",
    "            for column_index in range(worksheet.ncols):\n",
    "                cell_value = worksheet.cell_value(row_index, column_index)\n",
    "                cell_type = worksheet.cell_type(row_index, column_index)\n",
    "                if cell_type == 3:\n",
    "                    date_cell = xldate_as_tuple(cell_value,workbook.datemode)\n",
    "                    date_cell = date(*date_cell[0:3]).strftime('%m/%d/%Y')\n",
    "                    row_list.append(date_cell)\n",
    "                else:\n",
    "                    row_list.append(cell_value)\n",
    "        if row_list:\n",
    "            data.append(row_list)\n",
    "            \n",
    "    for list_index, output_list in enumerate(data):\n",
    "        for element_index, element in enumerate(output_list):\n",
    "            output_worksheet.write(list_index, element_index, element)\n",
    "            \n",
    "output_workbook.save(output_file)"
   ]
  },
  {
   "cell_type": "code",
   "execution_count": 16,
   "metadata": {
    "collapsed": true
   },
   "outputs": [],
   "source": [
    "#!/usr/bin/env python3\n",
    "import pandas as pd\n",
    "import sys\n",
    "\n",
    "input_file = '/Users/henry/Desktop/sales_2013.xlsx'\n",
    "output_file = '/Users/henry/Desktop/sales_2013_hing.xls'\n",
    "\n",
    "data_frame = pd.read_excel(input_file, 'january_2013', index_col=None) #파일 불러올 때 index 지정해주기 : index_col\n",
    "data_frame_value_meets_condition = data_frame[data_frame['Sale Amount'].astype(float) > 1400.0] #astype이 뭐지?\n",
    "\n",
    "writer = pd.ExcelWriter(output_file)\n",
    "data_frame_value_meets_condition.to_excel(writer, sheet_name='jan_13_output', index=False)\n",
    "writer.save()"
   ]
  },
  {
   "cell_type": "code",
   "execution_count": 18,
   "metadata": {},
   "outputs": [
    {
     "name": "stdout",
     "output_type": "stream",
     "text": [
      "/Users/henry/Desktop/sales_2013_hing.xls\n"
     ]
    }
   ],
   "source": [
    "#!/usr/bin/env python3\n",
    "import pandas as pd\n",
    "import sys\n",
    "\n",
    "input_file = '/Users/henry/Desktop/sales_2013.xlsx'\n",
    "output_file = '/Users/henry/Desktop/sales_2013_hing.xls'\n",
    "\n",
    "data_frame = pd.read_excel(input_file, 'january_2013', index_col=None) #파일 불러올 때 index 지정해주기 : index_col\n",
    "\n",
    "print(output_file)"
   ]
  },
  {
   "cell_type": "code",
   "execution_count": null,
   "metadata": {
    "collapsed": true
   },
   "outputs": [],
   "source": [
    "#!/usr/bin/env python3\n",
    "import sys\n",
    "from datetime import date"
   ]
  },
  {
   "cell_type": "code",
   "execution_count": 25,
   "metadata": {
    "collapsed": true
   },
   "outputs": [],
   "source": [
    "#!/usr/bin/env python3\n",
    "import pandas as pd\n",
    "import sys\n",
    "\n",
    "input_file = '/Users/henry/Desktop/sales_2013.xlsx'\n",
    "output_file = '/Users/henry/Desktop/sales_2013_haddd.xls'\n",
    "\n",
    "date_frame = pd.read_excel(input_file, 'january_2013', index_col=None)\n",
    "\n",
    "important_dates = ['01/24/2013', '01/31/2013']\n",
    "data_frame_value_in_set = data_frame[data_frame['Purchase Date'].isin(important_dates)]\n",
    "\n",
    "writer = pd.ExcelWriter(output_file)\n",
    "data_frame_value_in_set.to_excel(writer, sheet_name='jan_13_output1', index=True)\n",
    "writer.save()"
   ]
  },
  {
   "cell_type": "code",
   "execution_count": 28,
   "metadata": {},
   "outputs": [
    {
     "ename": "Exception",
     "evalue": "Attempt to overwrite cell: sheetname='jan_2013_output' rowx=0 colx=0",
     "output_type": "error",
     "traceback": [
      "\u001b[0;31m---------------------------------------------------------------------------\u001b[0m",
      "\u001b[0;31mException\u001b[0m                                 Traceback (most recent call last)",
      "\u001b[0;32m<ipython-input-28-00459a55e59e>\u001b[0m in \u001b[0;36m<module>\u001b[0;34m()\u001b[0m\n\u001b[1;32m     37\u001b[0m         \u001b[0;32mfor\u001b[0m \u001b[0mlist_index\u001b[0m\u001b[0;34m,\u001b[0m \u001b[0moutput_list\u001b[0m \u001b[0;32min\u001b[0m \u001b[0menumerate\u001b[0m\u001b[0;34m(\u001b[0m\u001b[0mdata\u001b[0m\u001b[0;34m)\u001b[0m\u001b[0;34m:\u001b[0m\u001b[0;34m\u001b[0m\u001b[0m\n\u001b[1;32m     38\u001b[0m             \u001b[0;32mfor\u001b[0m \u001b[0melement_index\u001b[0m\u001b[0;34m,\u001b[0m \u001b[0melement\u001b[0m \u001b[0;32min\u001b[0m \u001b[0menumerate\u001b[0m\u001b[0;34m(\u001b[0m\u001b[0moutput_list\u001b[0m\u001b[0;34m)\u001b[0m\u001b[0;34m:\u001b[0m\u001b[0;34m\u001b[0m\u001b[0m\n\u001b[0;32m---> 39\u001b[0;31m                 \u001b[0moutput_worksheet\u001b[0m\u001b[0;34m.\u001b[0m\u001b[0mwrite\u001b[0m\u001b[0;34m(\u001b[0m\u001b[0mlist_index\u001b[0m\u001b[0;34m,\u001b[0m \u001b[0melement_index\u001b[0m\u001b[0;34m,\u001b[0m \u001b[0melement\u001b[0m\u001b[0;34m)\u001b[0m\u001b[0;34m\u001b[0m\u001b[0m\n\u001b[0m\u001b[1;32m     40\u001b[0m \u001b[0;34m\u001b[0m\u001b[0m\n\u001b[1;32m     41\u001b[0m \u001b[0moutput_workbook\u001b[0m\u001b[0;34m.\u001b[0m\u001b[0msave\u001b[0m\u001b[0;34m(\u001b[0m\u001b[0moutput_file\u001b[0m\u001b[0;34m)\u001b[0m\u001b[0;34m\u001b[0m\u001b[0m\n",
      "\u001b[0;32m~/anaconda3/lib/python3.6/site-packages/xlwt/Worksheet.py\u001b[0m in \u001b[0;36mwrite\u001b[0;34m(self, r, c, label, style)\u001b[0m\n\u001b[1;32m   1086\u001b[0m            \u001b[0;34m:\u001b[0m\u001b[0;32mclass\u001b[0m\u001b[0;34m:\u001b[0m\u001b[0;31m`\u001b[0m\u001b[0;34m~\u001b[0m\u001b[0mxlwt\u001b[0m\u001b[0;34m.\u001b[0m\u001b[0mStyle\u001b[0m\u001b[0;34m.\u001b[0m\u001b[0mXFStyle\u001b[0m\u001b[0;31m`\u001b[0m \u001b[0mobject\u001b[0m\u001b[0;34m.\u001b[0m\u001b[0;34m\u001b[0m\u001b[0m\n\u001b[1;32m   1087\u001b[0m         \"\"\"\n\u001b[0;32m-> 1088\u001b[0;31m         \u001b[0mself\u001b[0m\u001b[0;34m.\u001b[0m\u001b[0mrow\u001b[0m\u001b[0;34m(\u001b[0m\u001b[0mr\u001b[0m\u001b[0;34m)\u001b[0m\u001b[0;34m.\u001b[0m\u001b[0mwrite\u001b[0m\u001b[0;34m(\u001b[0m\u001b[0mc\u001b[0m\u001b[0;34m,\u001b[0m \u001b[0mlabel\u001b[0m\u001b[0;34m,\u001b[0m \u001b[0mstyle\u001b[0m\u001b[0;34m)\u001b[0m\u001b[0;34m\u001b[0m\u001b[0m\n\u001b[0m\u001b[1;32m   1089\u001b[0m \u001b[0;34m\u001b[0m\u001b[0m\n\u001b[1;32m   1090\u001b[0m     \u001b[0;32mdef\u001b[0m \u001b[0mwrite_rich_text\u001b[0m\u001b[0;34m(\u001b[0m\u001b[0mself\u001b[0m\u001b[0;34m,\u001b[0m \u001b[0mr\u001b[0m\u001b[0;34m,\u001b[0m \u001b[0mc\u001b[0m\u001b[0;34m,\u001b[0m \u001b[0mrich_text_list\u001b[0m\u001b[0;34m,\u001b[0m \u001b[0mstyle\u001b[0m\u001b[0;34m=\u001b[0m\u001b[0mStyle\u001b[0m\u001b[0;34m.\u001b[0m\u001b[0mdefault_style\u001b[0m\u001b[0;34m)\u001b[0m\u001b[0;34m:\u001b[0m\u001b[0;34m\u001b[0m\u001b[0m\n",
      "\u001b[0;32m~/anaconda3/lib/python3.6/site-packages/xlwt/Row.py\u001b[0m in \u001b[0;36mwrite\u001b[0;34m(self, col, label, style)\u001b[0m\n\u001b[1;32m    239\u001b[0m             \u001b[0;32mif\u001b[0m \u001b[0mlen\u001b[0m\u001b[0;34m(\u001b[0m\u001b[0mlabel\u001b[0m\u001b[0;34m)\u001b[0m \u001b[0;34m>\u001b[0m \u001b[0;36m0\u001b[0m\u001b[0;34m:\u001b[0m\u001b[0;34m\u001b[0m\u001b[0m\n\u001b[1;32m    240\u001b[0m                 self.insert_cell(col,\n\u001b[0;32m--> 241\u001b[0;31m                     \u001b[0mStrCell\u001b[0m\u001b[0;34m(\u001b[0m\u001b[0mself\u001b[0m\u001b[0;34m.\u001b[0m\u001b[0m__idx\u001b[0m\u001b[0;34m,\u001b[0m \u001b[0mcol\u001b[0m\u001b[0;34m,\u001b[0m \u001b[0mstyle_index\u001b[0m\u001b[0;34m,\u001b[0m \u001b[0mself\u001b[0m\u001b[0;34m.\u001b[0m\u001b[0m__parent_wb\u001b[0m\u001b[0;34m.\u001b[0m\u001b[0madd_str\u001b[0m\u001b[0;34m(\u001b[0m\u001b[0mlabel\u001b[0m\u001b[0;34m)\u001b[0m\u001b[0;34m)\u001b[0m\u001b[0;34m\u001b[0m\u001b[0m\n\u001b[0m\u001b[1;32m    242\u001b[0m                     )\n\u001b[1;32m    243\u001b[0m             \u001b[0;32melse\u001b[0m\u001b[0;34m:\u001b[0m\u001b[0;34m\u001b[0m\u001b[0m\n",
      "\u001b[0;32m~/anaconda3/lib/python3.6/site-packages/xlwt/Row.py\u001b[0m in \u001b[0;36minsert_cell\u001b[0;34m(self, col_index, cell_obj)\u001b[0m\n\u001b[1;32m    158\u001b[0m                 \u001b[0mmsg\u001b[0m \u001b[0;34m=\u001b[0m \u001b[0;34m\"Attempt to overwrite cell: sheetname=%r rowx=%d colx=%d\"\u001b[0m\u001b[0;31m \u001b[0m\u001b[0;31m\\\u001b[0m\u001b[0;34m\u001b[0m\u001b[0m\n\u001b[1;32m    159\u001b[0m                     \u001b[0;34m%\u001b[0m \u001b[0;34m(\u001b[0m\u001b[0mself\u001b[0m\u001b[0;34m.\u001b[0m\u001b[0m__parent\u001b[0m\u001b[0;34m.\u001b[0m\u001b[0mname\u001b[0m\u001b[0;34m,\u001b[0m \u001b[0mself\u001b[0m\u001b[0;34m.\u001b[0m\u001b[0m__idx\u001b[0m\u001b[0;34m,\u001b[0m \u001b[0mcol_index\u001b[0m\u001b[0;34m)\u001b[0m\u001b[0;34m\u001b[0m\u001b[0m\n\u001b[0;32m--> 160\u001b[0;31m                 \u001b[0;32mraise\u001b[0m \u001b[0mException\u001b[0m\u001b[0;34m(\u001b[0m\u001b[0mmsg\u001b[0m\u001b[0;34m)\u001b[0m\u001b[0;34m\u001b[0m\u001b[0m\n\u001b[0m\u001b[1;32m    161\u001b[0m             \u001b[0mprev_cell_obj\u001b[0m \u001b[0;34m=\u001b[0m \u001b[0mself\u001b[0m\u001b[0;34m.\u001b[0m\u001b[0m__cells\u001b[0m\u001b[0;34m[\u001b[0m\u001b[0mcol_index\u001b[0m\u001b[0;34m]\u001b[0m\u001b[0;34m\u001b[0m\u001b[0m\n\u001b[1;32m    162\u001b[0m             \u001b[0msst_idx\u001b[0m \u001b[0;34m=\u001b[0m \u001b[0mgetattr\u001b[0m\u001b[0;34m(\u001b[0m\u001b[0mprev_cell_obj\u001b[0m\u001b[0;34m,\u001b[0m \u001b[0;34m'sst_idx'\u001b[0m\u001b[0;34m,\u001b[0m \u001b[0;32mNone\u001b[0m\u001b[0;34m)\u001b[0m\u001b[0;34m\u001b[0m\u001b[0m\n",
      "\u001b[0;31mException\u001b[0m: Attempt to overwrite cell: sheetname='jan_2013_output' rowx=0 colx=0"
     ]
    }
   ],
   "source": [
    "#!/usr/bin/env python3\n",
    "import re\n",
    "import sys\n",
    "from datetime import date\n",
    "from xlrd import open_workbook, xldate_as_tuple\n",
    "from xlwt import Workbook\n",
    "\n",
    "input_file = '/Users/henry/Desktop/sales_2013.xlsx'\n",
    "output_file = '/Users/henry/Desktop/sales_2013_pigon.xls'\n",
    "\n",
    "output_workbook = Workbook()\n",
    "output_worksheet = output_workbook.add_sheet('jan_2013_output')\n",
    "\n",
    "pattern = re.compile(r'(?P<my_pattern>^J.*)')\n",
    "\n",
    "customer_name_column_index = 1\n",
    "with open_workbook(input_file) as workbook:\n",
    "    worksheet = workbook.sheet_by_name('january_2013')\n",
    "    data = []\n",
    "    header = worksheet.row_values(0)\n",
    "    data.append(header)\n",
    "    for row_index in range(1, worksheet.nrows):\n",
    "        row_list = []\n",
    "        if pattern.search(worksheet.cell_value(row_index, customer_name_column_index)):\n",
    "            for column_index in range(worksheet.ncols):\n",
    "                cell_value = worksheet.cell_value(row_index,column_index)\n",
    "                cell_type = worksheet.cell_type(row_index, column_index)\n",
    "                if cell_type == 3:\n",
    "                    date_cell = xldate_as_tuple(cell_value,workbook.datemode)\n",
    "                    date_cell = date(*date_cell[0:3]).strftime('%m/%d/%Y')\n",
    "                    row_list.append(date_cell)\n",
    "                else:\n",
    "                    row_list.append(cell_value)\n",
    "            if row_list:\n",
    "                data.append(row_list)\n",
    "                \n",
    "        for list_index, output_list in enumerate(data):\n",
    "            for element_index, element in enumerate(output_list):\n",
    "                output_worksheet.write(list_index, element_index, element)\n",
    "                \n",
    "output_workbook.save(output_file)"
   ]
  },
  {
   "cell_type": "code",
   "execution_count": 29,
   "metadata": {
    "collapsed": true
   },
   "outputs": [],
   "source": [
    "#!/usr/bin/env python3\n",
    "import pandas as pd\n",
    "import sys\n",
    "\n",
    "input_file = '/Users/henry/Desktop/sales_2013.xlsx'\n",
    "output_file = '/Users/henry/Desktop/sales_2013_kk.xls'\n",
    "\n",
    "data_frame = pd.read_excel(input_file, 'january_2013', index_col=None)\n",
    "\n",
    "data_frame_value_matches_pattern = data_frame[data_frame['Customer Name'].str.startswith(\"J\")] #J로 시작하는 문자열을 찾는다.\n",
    "\n",
    "writer = pd.ExcelWriter(output_file)\n",
    "data_frame_value_matches_pattern.to_excel(writer, sheet_name='jan_13_output', index=False)\n",
    "writer.save()"
   ]
  },
  {
   "cell_type": "code",
   "execution_count": 37,
   "metadata": {},
   "outputs": [
    {
     "data": {
      "text/plain": [
       "True"
      ]
     },
     "execution_count": 37,
     "metadata": {},
     "output_type": "execute_result"
    }
   ],
   "source": [
    "'adgje'.startswith(\"adg\")"
   ]
  },
  {
   "cell_type": "code",
   "execution_count": 39,
   "metadata": {},
   "outputs": [
    {
     "data": {
      "text/plain": [
       "True"
      ]
     },
     "execution_count": 39,
     "metadata": {},
     "output_type": "execute_result"
    }
   ],
   "source": [
    "'adgje'.endswith('e')"
   ]
  },
  {
   "cell_type": "code",
   "execution_count": 40,
   "metadata": {
    "collapsed": true
   },
   "outputs": [],
   "source": [
    "#!/usr/bin/env python3\n",
    "import pandas as pd\n",
    "import sys\n",
    "\n",
    "input_file = '/Users/henry/Desktop/sales_2013.xlsx'\n",
    "output_file = '/Users/henry/Desktop/sales_2013_qq.xls'\n",
    "\n",
    "data_frame = pd.read_excel(input_file, 'january_2013', index_col=None)\n",
    "\n",
    "data_frame_column_by_index = data_frame.iloc[:,[1,4]]\n",
    "\n",
    "writer = pd.ExcelWriter(output_file) # XlsxWriter를 엔진으로 사용하여 팬더 엑셀 작성자를 만듭니다.\n",
    "data_frame_column_by_index.to_excel(writer, sheet_name='jan_13_output', index=False)  \n",
    "# 데이터 프레임을 XlsxWriter Excel 개체로 변환합니다.\n",
    "writer.save()"
   ]
  },
  {
   "cell_type": "code",
   "execution_count": 42,
   "metadata": {},
   "outputs": [],
   "source": [
    "#!/usr/bin/env python3\n",
    "import pandas as pd\n",
    "\n",
    "input_file = '/Users/henry/Desktop/sales_2013.xlsx'\n",
    "output_file = '/Users/henry/Desktop/sales_2013_ww.xls'\n",
    "\n",
    "data_frame = pd.read_excel(input_file, 'january_2013', index_col=None)\n",
    "\n",
    "data_frame_column_by_name = data_frame.loc[:, ['Customer ID', 'Purchase Date']]\n",
    "\n",
    "writer = pd.ExcelWriter(output_file)\n",
    "data_frame_column_by_name.to_excel(writer, sheet_name='jan_13_output', index=False)\n",
    "writer.save()"
   ]
  },
  {
   "cell_type": "code",
   "execution_count": 45,
   "metadata": {},
   "outputs": [],
   "source": [
    "#모든 워크시트에서 Sale Amount 열의 데이터 값이 $2,000.00 이상인 모든 행을 필터링\n",
    "#!/usr/bin/env python3\n",
    "import pandas as pd\n",
    "\n",
    "input_file = '/Users/henry/Desktop/sales_2013.xlsx'\n",
    "output_file = '/Users/henry/Desktop/sales_2013_buza.xls'\n",
    "\n",
    "data_frame = pd.read_excel(input_file, sheetname=None, index_col=None) \n",
    "#sheetname을 None으로 하면 한 번에 통합 문서의 모든 워크시트를 읽는다.\n",
    "\n",
    "row_output = []\n",
    "for worksheet_name, data in data_frame.items():\n",
    "    row_output.append(data[data['Sale Amount'].replace('$','').replace(',','').astype(float) > 2000.0])\n",
    "    #append 리스트의 맨 마지막에 새로운 요소를 추가하는 것\n",
    "    #replace(\"찾을값\", \"바꿀값\", [바꿀횟수])\n",
    "    filtered_row = pd.concat(row_output, axis=0, ignore_index=True)\n",
    "    \n",
    "writer = pd.ExcelWriter(output_file)\n",
    "filtered_row.to_excel(writer, sheet_name='sale_amount_gt2000', index=False)\n",
    "writer.save()"
   ]
  },
  {
   "cell_type": "code",
   "execution_count": null,
   "metadata": {
    "collapsed": true
   },
   "outputs": [],
   "source": []
  }
 ],
 "metadata": {
  "kernelspec": {
   "display_name": "Python 3",
   "language": "python",
   "name": "python3"
  },
  "language_info": {
   "codemirror_mode": {
    "name": "ipython",
    "version": 3
   },
   "file_extension": ".py",
   "mimetype": "text/x-python",
   "name": "python",
   "nbconvert_exporter": "python",
   "pygments_lexer": "ipython3",
   "version": "3.6.3"
  }
 },
 "nbformat": 4,
 "nbformat_minor": 2
}
