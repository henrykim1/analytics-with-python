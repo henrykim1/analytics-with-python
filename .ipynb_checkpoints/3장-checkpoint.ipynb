{
 "cells": [
  {
   "cell_type": "markdown",
   "metadata": {},
   "source": [
    "# 3장: 엑셀파일을 만들게 시키다. 여기서 시간을 쓰다."
   ]
  },
  {
   "cell_type": "markdown",
   "metadata": {},
   "source": [
    "# 3.1 엑셀 통합 문서 내부 살펴보기"
   ]
  },
  {
   "cell_type": "code",
   "execution_count": 1,
   "metadata": {},
   "outputs": [
    {
     "name": "stdout",
     "output_type": "stream",
     "text": [
      "Number of worksheets: 3\n",
      "Worksheet name: january_2013 \tRows: 7 \tColumns: 5\n",
      "Worksheet name: february_2013 \tRows: 7 \tColumns: 5\n",
      "Worksheet name: march_2013 \tRows: 7 \tColumns: 5\n"
     ]
    }
   ],
   "source": [
    "#!/usr/bin/env python3\n",
    "from xlrd import open_workbook\n",
    "\n",
    "input_file = '/Users/henry/Desktop/sales_2013.xlsx'\n",
    "\n",
    "workbook = open_workbook(input_file)\n",
    "print('Number of worksheets:', workbook.nsheets)\n",
    "for worksheet in workbook.sheets():\n",
    "    print(\"Worksheet name:\", worksheet.name, \"\\tRows:\", worksheet.nrows, \"\\tColumns:\", worksheet.ncols)"
   ]
  },
  {
   "cell_type": "markdown",
   "metadata": {},
   "source": [
    "1. nrows: 로우의 갯수 확인\n",
    "2. ncols: 컬럼의 갯수 확인"
   ]
  },
  {
   "cell_type": "markdown",
   "metadata": {},
   "source": [
    "# 3.2 단일 워크시트 처리"
   ]
  },
  {
   "cell_type": "markdown",
   "metadata": {},
   "source": [
    "## 3.2.1 엑셀파일 읽기 및 쓰기"
   ]
  },
  {
   "cell_type": "code",
   "execution_count": 5,
   "metadata": {},
   "outputs": [
    {
     "name": "stdout",
     "output_type": "stream",
     "text": [
      "Customer ID\n",
      "Customer Name\n",
      "Invoice Number\n",
      "Sale Amount\n",
      "Purchase Date\n",
      "1234.0\n",
      "John Smith\n",
      "100-0002\n",
      "1200.0\n",
      "41275.0\n",
      "2345.0\n",
      "Mary Harrison\n",
      "100-0003\n",
      "1425.0\n",
      "41280.0\n",
      "3456.0\n",
      "Lucy Gomez\n",
      "100-0004\n",
      "1390.0\n",
      "41285.0\n",
      "4567.0\n",
      "Rupert Jones\n",
      "100-0005\n",
      "1257.0\n",
      "41282.0\n",
      "5678.0\n",
      "Jenny Walters\n",
      "100-0006\n",
      "1725.0\n",
      "41298.0\n",
      "6789.0\n",
      "Samantha Donaldson\n",
      "100-0007\n",
      "1995.0\n",
      "41305.0\n"
     ]
    }
   ],
   "source": [
    "#xlrd 및 xlwt 모듈을 사용한 기본 파이썬\n",
    "#!/usr/bin/env python3\n",
    "import sys\n",
    "from xlrd import open_workbook\n",
    "from xlwt import Workbook\n",
    "\n",
    "input_file = '/Users/henry/Desktop/sales_2013.xlsx'\n",
    "output_file = '/Users/henry/Desktop/sales_2013_good.xls'\n",
    "\n",
    "output_workbook = Workbook()\n",
    "output_worksheet = output_workbook.add_sheet('jan_2013_output')\n",
    "\n",
    "with open_workbook(input_file) as workbook:\n",
    "    worksheet = workbook.sheet_by_name('january_2013')\n",
    "    for row_index in range(worksheet.nrows):\n",
    "        for column_index in range(worksheet.ncols):\n",
    "            output_worksheet.write(row_index, column_index, worksheet.cell_value(row_index, column_index))\n",
    "            print(worksheet.cell_value(row_index, column_index))"
   ]
  },
  {
   "cell_type": "markdown",
   "metadata": {},
   "source": [
    "1. Workbook: 엑셀 빈 파일을 지정한다.\n",
    "2. 얘는 시트를 생성한거다.\n",
    "3. 0,1,2,3,4,5,6하고 칼럼을 돈다.\n",
    "4. sheet_by_name : 시트 목록을 출력 / sheet_by_index(): 씨트 인덱스를 출력\n",
    "5. 로우와 칼럼을 돌아서 다 채워넣어라아"
   ]
  },
  {
   "cell_type": "code",
   "execution_count": 6,
   "metadata": {},
   "outputs": [
    {
     "name": "stdout",
     "output_type": "stream",
     "text": [
      "<xlwt.Workbook.Workbook object at 0x10e373eb8>\n"
     ]
    }
   ],
   "source": [
    "#날짜 형식 할당\n",
    "#!/usr/bin/env python3\n",
    "import sys\n",
    "from datetime import date\n",
    "from xlrd import open_workbook, xldate_as_tuple\n",
    "from xlwt import Workbook\n",
    "\n",
    "input_file = '/Users/henry/Desktop/sales_2013.xlsx'\n",
    "output_file = '/Users/henry/Desktop/sales_2013_hi.xls'\n",
    "\n",
    "output_workbook = Workbook()\n",
    "output_worksheet = output_workbook.add_sheet('jan_2013_output')\n",
    "\n",
    "with open_workbook(input_file) as workbook:\n",
    "    worksheet = workbook.sheet_by_name('january_2013')\n",
    "    for row_index in range(worksheet.nrows):\n",
    "        row_list_output = []\n",
    "        for col_index in range(worksheet.ncols):\n",
    "            if worksheet.cell_type(row_index, col_index) == 3:\n",
    "                date_cell = xldate_as_tuple(worksheet.cell_value(row_index, col_index), workbook.datemode)\n",
    "                date_cell = date(*date_cell[0:3]).strftime('%m/%d/%Y')\n",
    "                row_list_output.append(date_cell)\n",
    "                output_worksheet.write(row_index, col_index, date_cell)\n",
    "            else:\n",
    "                non_date_cell = worksheet.cell_value(row_index, col_index)\n",
    "                row_list_output.append(non_date_cell)\n",
    "                output_worksheet.write(row_index, col_index, non_date_cell)\n",
    "print(output_workbook)"
   ]
  },
  {
   "cell_type": "code",
   "execution_count": 5,
   "metadata": {
    "collapsed": true
   },
   "outputs": [],
   "source": [
    "#판다스 그냥 엑셀 읽어\n",
    "#!/usr/bin/env python3\n",
    "import pandas as pd\n",
    "\n",
    "input_file = '/Users/henry/Desktop/sales_2013.xlsx'\n",
    "output_file = '/Users/henry/Desktop/sales_2013_shit.xls'\n",
    "\n",
    "data_frame = pd.read_excel(input_file, sheetname='january_2013')\n",
    "\n",
    "writer = pd.ExcelWriter(output_file)\n",
    "data_frame.to_excel(writer, sheet_name='jan_13_output', index=False)\n",
    "writer.save()"
   ]
  },
  {
   "cell_type": "markdown",
   "metadata": {},
   "source": [
    "### 위에꺼 그냥 출력해봄"
   ]
  },
  {
   "cell_type": "code",
   "execution_count": 1,
   "metadata": {},
   "outputs": [
    {
     "name": "stdout",
     "output_type": "stream",
     "text": [
      "   Customer ID       Customer Name Invoice Number  Sale Amount Purchase Date\n",
      "0         1234          John Smith       100-0002         1200    2013-01-01\n",
      "1         2345       Mary Harrison       100-0003         1425    2013-01-06\n",
      "2         3456          Lucy Gomez       100-0004         1390    2013-01-11\n",
      "3         4567        Rupert Jones       100-0005         1257    2013-01-08\n",
      "4         5678       Jenny Walters       100-0006         1725    2013-01-24\n",
      "5         6789  Samantha Donaldson       100-0007         1995    2013-01-31\n"
     ]
    }
   ],
   "source": [
    "#!/usr/bin/env python3\n",
    "import pandas as pd\n",
    "\n",
    "input_file = '/Users/henry/Desktop/sales_2013.xlsx'\n",
    "output_file = '/Users/henry/Desktop/sales_2013_shit.xls'\n",
    "\n",
    "data_frame = pd.read_excel(input_file, sheetname='january_2013')\n",
    "print(data_frame)"
   ]
  },
  {
   "cell_type": "markdown",
   "metadata": {},
   "source": [
    "1. 그냥 인풋파일에 시트네임 저거를 가져와서 뽑았다. 이것도 만족스럽다."
   ]
  },
  {
   "cell_type": "markdown",
   "metadata": {},
   "source": [
    "# 3.2.2 특정 행 필터링 하기 - 특정 조건을 충족하는 행의 필터링"
   ]
  },
  {
   "cell_type": "code",
   "execution_count": 13,
   "metadata": {},
   "outputs": [
    {
     "name": "stdout",
     "output_type": "stream",
     "text": [
      "6\n"
     ]
    }
   ],
   "source": [
    "# 기본 파이썬 : sale_amount가 $1,400.00보다 큰 하위 데이터셋으로 선택\n",
    "#!/usr/bin/env python3\n",
    "import sys\n",
    "from datetime import date\n",
    "from xlrd import open_workbook, xldate_as_tuple\n",
    "from xlwt import Workbook\n",
    "\n",
    "input_file = '/Users/henry/Desktop/sales_2013.xlsx'\n",
    "output_file = '/Users/henry/Desktop/sales_2013_hell.xls'\n",
    "\n",
    "output_wirkbook = Workbook()\n",
    "output_worksheet = output_workbook.add_sheet('jan_2013_output1')\n",
    "\n",
    "sale_amount_column_index = 3\n",
    "with open_workbook(input_file) as workbook:\n",
    "    worksheet = workbook.sheet_by_name('january_2013')\n",
    "    data = []\n",
    "    header = worksheet.row_values(0)\n",
    "    data.append(header)\n",
    "    for row_index in range(1,worksheet.nrows):\n",
    "        row_list = []\n",
    "        sale_amount = worksheet.cell_value(row_index, sale_amount_column_index)\n",
    "        if sale_amount > 1400.0:\n",
    "            for column_index in range(worksheet.ncols):\n",
    "                cell_value = worksheet.cell_value(row_index, column_index)\n",
    "                cell_type = worksheet.cell_type(row_index, column_index)\n",
    "                if cell_type == 3:\n",
    "                    date_cell = xldate_as_tuple(cell_value,workbook.datemode)\n",
    "                    date_cell = date(*date_cell[0:3]).strftime('%m/%d/%Y')\n",
    "                    row_list.append(date_cell)\n",
    "                else:\n",
    "                    row_list.append(cell_value)\n",
    "        if row_list:\n",
    "            data.append(row_list)\n",
    "            \n",
    "    for list_index, output_list in enumerate(data):\n",
    "        for element_index, element in enumerate(output_list):\n",
    "            output_worksheet.write(list_index, element_index, element)\n",
    "            \n",
    "print(row_index)"
   ]
  },
  {
   "cell_type": "code",
   "execution_count": 7,
   "metadata": {},
   "outputs": [
    {
     "name": "stdout",
     "output_type": "stream",
     "text": [
      "   Customer ID       Customer Name Invoice Number  Sale Amount Purchase Date\n",
      "1         2345       Mary Harrison       100-0003         1425    2013-01-06\n",
      "4         5678       Jenny Walters       100-0006         1725    2013-01-24\n",
      "5         6789  Samantha Donaldson       100-0007         1995    2013-01-31\n"
     ]
    }
   ],
   "source": [
    "#팬더스\n",
    "#!/usr/bin/env python3\n",
    "import pandas as pd\n",
    "import sys\n",
    "\n",
    "input_file = '/Users/henry/Desktop/sales_2013.xlsx'\n",
    "output_file = '/Users/henry/Desktop/sales_2013_hing.xls'\n",
    "\n",
    "data_frame = pd.read_excel(input_file, 'january_2013', index_col=None) \n",
    "#파일 불러올 때 index 지정해주기 : index_col\n",
    "data_frame_value_meets_condition = data_frame[data_frame['Sale Amount'].astype(float) > 1400.0] #astype이 뭐지?\n",
    "\n",
    "writer = pd.ExcelWriter(output_file)\n",
    "data_frame_value_meets_condition.to_excel(writer, sheet_name='jan_13_output', index=False)\n",
    "print(data_frame_value_meets_condition)"
   ]
  },
  {
   "cell_type": "markdown",
   "metadata": {},
   "source": [
    "1. january_2013 출력을 data_frame 으로 지정\n",
    "2. Sale Amount가 1400.0 초과인 것을 data_frame_value_meets_condition 으로 지정\n",
    "3. 뽑아라. jan_13_output 시트로.(일단 프린트도 해봄). writer 부터는 무시해도 된다. 안 뽑을 꺼니까."
   ]
  },
  {
   "cell_type": "markdown",
   "metadata": {},
   "source": [
    "# 특정 집합의 값을 포함하는 행의 필터링"
   ]
  },
  {
   "cell_type": "code",
   "execution_count": 7,
   "metadata": {
    "collapsed": true
   },
   "outputs": [],
   "source": [
    "#!/usr/bin/env python3\n",
    "import sys\n",
    "from datetime import date\n",
    "from xlrd import open_workbook, xldate_as_tuple\n",
    "from xlwt import Workbook\n",
    "\n",
    "input_file = '/Users/henry/Desktop/sales_2013.xlsx'\n",
    "output_file = '/Users/henry/Desktop/sales_2013_gg.xls'\n",
    "\n",
    "output_workbook = Workbook()\n",
    "output_worksheet = output_workbook.add_sheet('jan_2013_output')\n",
    "\n",
    "important_dates = ['01/24/2013', '01/31/2013']\n",
    "\n",
    "purchase_date_column_index = 4\n",
    "with open_workbook(input_file) as workbook:\n",
    "    worksheet = workbook.sheet_by_name('january_2013')\n",
    "    data = []\n",
    "    header = worksheet.row_values(0)\n",
    "    data.append(header)\n",
    "    for row_index in range(1, worksheet.nrows):\n",
    "        purchase_datetime = xldate_as_tuple(worksheet.cell_value(row_index, purchase_date_column_index),workbook.datemode)\n",
    "        purchase_date = date(*purchase_datetime[0:3]).strftime('%m/%d/%Y')\n",
    "        row_list = []\n",
    "        if purchase_date in important_dates:\n",
    "            for column_index in range(worksheet.ncols):\n",
    "                cell_value = worksheet.cell_value(row_index,column_index)\n",
    "                cell_type = worksheet.cell_type(row_index,column_index)\n",
    "                if cell_type == 3:\n",
    "                    date_cell = xldate_as_tuple(cell_value,workbook.datemode)\n",
    "                    date_cell = date(*date_cell[0:3]).strftime('%m/%d/%Y')\n",
    "                    row_list.append(date_cell)\n",
    "                else:\n",
    "                    row_list.append(cell_value)\n",
    "        if row_list:\n",
    "            data.append(row_list)\n",
    "    \n",
    "    for list_index, output_list in enumerate(data):\n",
    "        for element_index, element in enumerate(output_list):\n",
    "            output_worksheet.write(list_index, element_index, element)\n",
    "            \n",
    "output_workbook.save(output_file)"
   ]
  },
  {
   "cell_type": "markdown",
   "metadata": {},
   "source": [
    "#enumerate = 순서가 있는 자료형(리스트, 튜플, 문자열)을 입력받아 인덱스값에 포함시키는 역할. 대부분 순서를 내야하기 때문에 for문과 같이 쓰임."
   ]
  },
  {
   "cell_type": "code",
   "execution_count": 3,
   "metadata": {},
   "outputs": [
    {
     "name": "stdout",
     "output_type": "stream",
     "text": [
      "   Customer ID       Customer Name Invoice Number  Sale Amount Purchase Date\n",
      "4         5678       Jenny Walters       100-0006         1725    2013-01-24\n",
      "5         6789  Samantha Donaldson       100-0007         1995    2013-01-31\n"
     ]
    }
   ],
   "source": [
    "# 01/24/2014 혹은 01/31/2013인 행을 필터링\n",
    "#!/usr/bin/env python3\n",
    "import pandas as pd\n",
    "\n",
    "input_file = '/Users/henry/Desktop/sales_2013.xlsx'\n",
    "output_file = '/Users/henry/Desktop/sales_2013_haddd.xls'\n",
    "\n",
    "data_frame = pd.read_excel(input_file, 'january_2013', index_col=None)\n",
    "\n",
    "important_dates = ['01/24/2013', '01/31/2013']\n",
    "data_frame_value_in_set = data_frame[data_frame['Purchase Date'].isin(important_dates)]\n",
    "print(data_frame_value_in_set)\n",
    "writer = pd.ExcelWriter(output_file)\n",
    "data_frame_value_in_set.to_excel(writer, sheet_name='jan_13_output1', index=True)\n",
    "\n",
    "writer.save()"
   ]
  },
  {
   "cell_type": "markdown",
   "metadata": {},
   "source": [
    "1. isin : 포함되어 있는가? 라는 뜻이랍니다.\n",
    "2. january_2013을 읽었다.\n",
    "3. 변수로 저 두 날짜를 지정했다.\n",
    "4. 두 날짜가 포함된 Purchase Date를 data_frame_value_in_set으로 지정\n",
    "5. dat_frame_value_in_set을 프린트하거라."
   ]
  },
  {
   "cell_type": "markdown",
   "metadata": {},
   "source": [
    "## 패턴을 활용한 필터링"
   ]
  },
  {
   "cell_type": "code",
   "execution_count": 6,
   "metadata": {},
   "outputs": [
    {
     "ename": "Exception",
     "evalue": "Attempt to overwrite cell: sheetname='jan2013_output' rowx=0 colx=0",
     "output_type": "error",
     "traceback": [
      "\u001b[0;31m---------------------------------------------------------------------------\u001b[0m",
      "\u001b[0;31mException\u001b[0m                                 Traceback (most recent call last)",
      "\u001b[0;32m<ipython-input-6-702dcc7fd7d3>\u001b[0m in \u001b[0;36m<module>\u001b[0;34m()\u001b[0m\n\u001b[1;32m     37\u001b[0m         \u001b[0;32mfor\u001b[0m \u001b[0mlist_index\u001b[0m\u001b[0;34m,\u001b[0m \u001b[0moutput_list\u001b[0m \u001b[0;32min\u001b[0m \u001b[0menumerate\u001b[0m\u001b[0;34m(\u001b[0m\u001b[0mdata\u001b[0m\u001b[0;34m)\u001b[0m\u001b[0;34m:\u001b[0m\u001b[0;34m\u001b[0m\u001b[0m\n\u001b[1;32m     38\u001b[0m             \u001b[0;32mfor\u001b[0m \u001b[0melement_index\u001b[0m\u001b[0;34m,\u001b[0m \u001b[0melement\u001b[0m \u001b[0;32min\u001b[0m \u001b[0menumerate\u001b[0m\u001b[0;34m(\u001b[0m\u001b[0moutput_list\u001b[0m\u001b[0;34m)\u001b[0m\u001b[0;34m:\u001b[0m\u001b[0;34m\u001b[0m\u001b[0m\n\u001b[0;32m---> 39\u001b[0;31m                 \u001b[0moutput_worksheet\u001b[0m\u001b[0;34m.\u001b[0m\u001b[0mwrite\u001b[0m\u001b[0;34m(\u001b[0m\u001b[0mlist_index\u001b[0m\u001b[0;34m,\u001b[0m \u001b[0melement_index\u001b[0m\u001b[0;34m,\u001b[0m \u001b[0melement\u001b[0m\u001b[0;34m)\u001b[0m\u001b[0;34m\u001b[0m\u001b[0m\n\u001b[0m\u001b[1;32m     40\u001b[0m \u001b[0;34m\u001b[0m\u001b[0m\n\u001b[1;32m     41\u001b[0m \u001b[0mprint\u001b[0m\u001b[0;34m(\u001b[0m\u001b[0moutput_worksheet\u001b[0m\u001b[0;34m)\u001b[0m\u001b[0;34m\u001b[0m\u001b[0m\n",
      "\u001b[0;32m~/anaconda3/lib/python3.6/site-packages/xlwt/Worksheet.py\u001b[0m in \u001b[0;36mwrite\u001b[0;34m(self, r, c, label, style)\u001b[0m\n\u001b[1;32m   1086\u001b[0m            \u001b[0;34m:\u001b[0m\u001b[0;32mclass\u001b[0m\u001b[0;34m:\u001b[0m\u001b[0;31m`\u001b[0m\u001b[0;34m~\u001b[0m\u001b[0mxlwt\u001b[0m\u001b[0;34m.\u001b[0m\u001b[0mStyle\u001b[0m\u001b[0;34m.\u001b[0m\u001b[0mXFStyle\u001b[0m\u001b[0;31m`\u001b[0m \u001b[0mobject\u001b[0m\u001b[0;34m.\u001b[0m\u001b[0;34m\u001b[0m\u001b[0m\n\u001b[1;32m   1087\u001b[0m         \"\"\"\n\u001b[0;32m-> 1088\u001b[0;31m         \u001b[0mself\u001b[0m\u001b[0;34m.\u001b[0m\u001b[0mrow\u001b[0m\u001b[0;34m(\u001b[0m\u001b[0mr\u001b[0m\u001b[0;34m)\u001b[0m\u001b[0;34m.\u001b[0m\u001b[0mwrite\u001b[0m\u001b[0;34m(\u001b[0m\u001b[0mc\u001b[0m\u001b[0;34m,\u001b[0m \u001b[0mlabel\u001b[0m\u001b[0;34m,\u001b[0m \u001b[0mstyle\u001b[0m\u001b[0;34m)\u001b[0m\u001b[0;34m\u001b[0m\u001b[0m\n\u001b[0m\u001b[1;32m   1089\u001b[0m \u001b[0;34m\u001b[0m\u001b[0m\n\u001b[1;32m   1090\u001b[0m     \u001b[0;32mdef\u001b[0m \u001b[0mwrite_rich_text\u001b[0m\u001b[0;34m(\u001b[0m\u001b[0mself\u001b[0m\u001b[0;34m,\u001b[0m \u001b[0mr\u001b[0m\u001b[0;34m,\u001b[0m \u001b[0mc\u001b[0m\u001b[0;34m,\u001b[0m \u001b[0mrich_text_list\u001b[0m\u001b[0;34m,\u001b[0m \u001b[0mstyle\u001b[0m\u001b[0;34m=\u001b[0m\u001b[0mStyle\u001b[0m\u001b[0;34m.\u001b[0m\u001b[0mdefault_style\u001b[0m\u001b[0;34m)\u001b[0m\u001b[0;34m:\u001b[0m\u001b[0;34m\u001b[0m\u001b[0m\n",
      "\u001b[0;32m~/anaconda3/lib/python3.6/site-packages/xlwt/Row.py\u001b[0m in \u001b[0;36mwrite\u001b[0;34m(self, col, label, style)\u001b[0m\n\u001b[1;32m    239\u001b[0m             \u001b[0;32mif\u001b[0m \u001b[0mlen\u001b[0m\u001b[0;34m(\u001b[0m\u001b[0mlabel\u001b[0m\u001b[0;34m)\u001b[0m \u001b[0;34m>\u001b[0m \u001b[0;36m0\u001b[0m\u001b[0;34m:\u001b[0m\u001b[0;34m\u001b[0m\u001b[0m\n\u001b[1;32m    240\u001b[0m                 self.insert_cell(col,\n\u001b[0;32m--> 241\u001b[0;31m                     \u001b[0mStrCell\u001b[0m\u001b[0;34m(\u001b[0m\u001b[0mself\u001b[0m\u001b[0;34m.\u001b[0m\u001b[0m__idx\u001b[0m\u001b[0;34m,\u001b[0m \u001b[0mcol\u001b[0m\u001b[0;34m,\u001b[0m \u001b[0mstyle_index\u001b[0m\u001b[0;34m,\u001b[0m \u001b[0mself\u001b[0m\u001b[0;34m.\u001b[0m\u001b[0m__parent_wb\u001b[0m\u001b[0;34m.\u001b[0m\u001b[0madd_str\u001b[0m\u001b[0;34m(\u001b[0m\u001b[0mlabel\u001b[0m\u001b[0;34m)\u001b[0m\u001b[0;34m)\u001b[0m\u001b[0;34m\u001b[0m\u001b[0m\n\u001b[0m\u001b[1;32m    242\u001b[0m                     )\n\u001b[1;32m    243\u001b[0m             \u001b[0;32melse\u001b[0m\u001b[0;34m:\u001b[0m\u001b[0;34m\u001b[0m\u001b[0m\n",
      "\u001b[0;32m~/anaconda3/lib/python3.6/site-packages/xlwt/Row.py\u001b[0m in \u001b[0;36minsert_cell\u001b[0;34m(self, col_index, cell_obj)\u001b[0m\n\u001b[1;32m    158\u001b[0m                 \u001b[0mmsg\u001b[0m \u001b[0;34m=\u001b[0m \u001b[0;34m\"Attempt to overwrite cell: sheetname=%r rowx=%d colx=%d\"\u001b[0m\u001b[0;31m \u001b[0m\u001b[0;31m\\\u001b[0m\u001b[0;34m\u001b[0m\u001b[0m\n\u001b[1;32m    159\u001b[0m                     \u001b[0;34m%\u001b[0m \u001b[0;34m(\u001b[0m\u001b[0mself\u001b[0m\u001b[0;34m.\u001b[0m\u001b[0m__parent\u001b[0m\u001b[0;34m.\u001b[0m\u001b[0mname\u001b[0m\u001b[0;34m,\u001b[0m \u001b[0mself\u001b[0m\u001b[0;34m.\u001b[0m\u001b[0m__idx\u001b[0m\u001b[0;34m,\u001b[0m \u001b[0mcol_index\u001b[0m\u001b[0;34m)\u001b[0m\u001b[0;34m\u001b[0m\u001b[0m\n\u001b[0;32m--> 160\u001b[0;31m                 \u001b[0;32mraise\u001b[0m \u001b[0mException\u001b[0m\u001b[0;34m(\u001b[0m\u001b[0mmsg\u001b[0m\u001b[0;34m)\u001b[0m\u001b[0;34m\u001b[0m\u001b[0m\n\u001b[0m\u001b[1;32m    161\u001b[0m             \u001b[0mprev_cell_obj\u001b[0m \u001b[0;34m=\u001b[0m \u001b[0mself\u001b[0m\u001b[0;34m.\u001b[0m\u001b[0m__cells\u001b[0m\u001b[0;34m[\u001b[0m\u001b[0mcol_index\u001b[0m\u001b[0;34m]\u001b[0m\u001b[0;34m\u001b[0m\u001b[0m\n\u001b[1;32m    162\u001b[0m             \u001b[0msst_idx\u001b[0m \u001b[0;34m=\u001b[0m \u001b[0mgetattr\u001b[0m\u001b[0;34m(\u001b[0m\u001b[0mprev_cell_obj\u001b[0m\u001b[0;34m,\u001b[0m \u001b[0;34m'sst_idx'\u001b[0m\u001b[0;34m,\u001b[0m \u001b[0;32mNone\u001b[0m\u001b[0;34m)\u001b[0m\u001b[0;34m\u001b[0m\u001b[0m\n",
      "\u001b[0;31mException\u001b[0m: Attempt to overwrite cell: sheetname='jan2013_output' rowx=0 colx=0"
     ]
    }
   ],
   "source": [
    "# Costomer Name 열이 J로 시작하는 것 필터링\n",
    "#!/usr/bin/env python3\n",
    "import re\n",
    "import sys\n",
    "from datetime import date\n",
    "from xlrd import open_workbook, xldate_as_tuple\n",
    "from xlwt import Workbook\n",
    "\n",
    "input_file = '/Users/henry/Desktop/sales_2013.xlsx'\n",
    "output_file = '/Users/henry/Desktop/sales_2013_pigon.xls'\n",
    "\n",
    "output_workbook = Workbook()\n",
    "output_worksheet = output_workbook.add_sheet('jan_2013_output')\n",
    "\n",
    "pattern = re.compile(r'(?P<my_pattern>^J.*)')\n",
    "\n",
    "customer_name_column_index = 1\n",
    "with open_workbook(input_file) as workbook:\n",
    "    worksheet = workbook.sheet_by_name('january_2013')\n",
    "    data = []\n",
    "    header = worksheet.row_values(0)\n",
    "    data.append(header)\n",
    "    for row_index in range(1, worksheet.nrows):\n",
    "        row_list = []\n",
    "        if pattern.search(worksheet.cell_value(row_index, customer_name_column_index)):\n",
    "            for column_index in range(worksheet.ncols):\n",
    "                cell_value = worksheet.cell_value(row_index,column_index)\n",
    "                cell_type = worksheet.cell_type(row_index, column_index)\n",
    "                if cell_type == 3:\n",
    "                    date_cell = xldate_as_tuple(cell_value,workbook.datemode)\n",
    "                    date_cell = date(*date_cell[0:3]).strftime('%m/%d/%Y')\n",
    "                    row_list.append(date_cell)\n",
    "                else:\n",
    "                    row_list.append(cell_value)\n",
    "            if row_list:\n",
    "                data.append(row_list)\n",
    "                \n",
    "        for list_index, output_list in enumerate(data):\n",
    "            for element_index, element in enumerate(output_list):\n",
    "                output_worksheet.write(list_index, element_index, element)\n",
    "                \n",
    "print(output_worksheet)"
   ]
  },
  {
   "cell_type": "code",
   "execution_count": 7,
   "metadata": {},
   "outputs": [
    {
     "name": "stdout",
     "output_type": "stream",
     "text": [
      "   Customer ID  Customer Name Invoice Number  Sale Amount Purchase Date\n",
      "0         1234     John Smith       100-0002         1200    2013-01-01\n",
      "4         5678  Jenny Walters       100-0006         1725    2013-01-24\n"
     ]
    }
   ],
   "source": [
    "# Costomer Name 열이 J로 시작하는 것 필터링\n",
    "#!/usr/bin/env python3\n",
    "import pandas as pd\n",
    "import sys\n",
    "\n",
    "input_file = '/Users/henry/Desktop/sales_2013.xlsx'\n",
    "output_file = '/Users/henry/Desktop/sales_2013_kk.xls'\n",
    "\n",
    "data_frame = pd.read_excel(input_file, 'january_2013', index_col=None)\n",
    "\n",
    "data_frame_value_matches_pattern = data_frame[data_frame['Customer Name'].str.startswith(\"J\")]\n",
    "\n",
    "writer = pd.ExcelWriter(output_file)\n",
    "data_frame_value_matches_pattern.to_excel(writer, sheet_name='jan_13_output', index=False)\n",
    "print(data_frame_value_matches_pattern)"
   ]
  },
  {
   "cell_type": "markdown",
   "metadata": {},
   "source": [
    "1. startswith(\"J\") : J로 시작하는 문자열을 찾는다."
   ]
  },
  {
   "cell_type": "markdown",
   "metadata": {},
   "source": [
    "## 심심해서 해본 startswith, endswith"
   ]
  },
  {
   "cell_type": "code",
   "execution_count": 13,
   "metadata": {},
   "outputs": [
    {
     "data": {
      "text/plain": [
       "True"
      ]
     },
     "execution_count": 13,
     "metadata": {},
     "output_type": "execute_result"
    }
   ],
   "source": [
    "'adgje'.startswith(\"adg\")"
   ]
  },
  {
   "cell_type": "code",
   "execution_count": 11,
   "metadata": {},
   "outputs": [
    {
     "data": {
      "text/plain": [
       "True"
      ]
     },
     "execution_count": 11,
     "metadata": {},
     "output_type": "execute_result"
    }
   ],
   "source": [
    "'adgje'.endswith('e')"
   ]
  },
  {
   "cell_type": "markdown",
   "metadata": {},
   "source": [
    "# 3.2.3 특정 열 선택하기"
   ]
  },
  {
   "cell_type": "code",
   "execution_count": 8,
   "metadata": {},
   "outputs": [
    {
     "name": "stdout",
     "output_type": "stream",
     "text": [
      "        Customer Name Purchase Date\n",
      "0          John Smith    2013-01-01\n",
      "1       Mary Harrison    2013-01-06\n",
      "2          Lucy Gomez    2013-01-11\n",
      "3        Rupert Jones    2013-01-08\n",
      "4       Jenny Walters    2013-01-24\n",
      "5  Samantha Donaldson    2013-01-31\n"
     ]
    }
   ],
   "source": [
    "#특정 열을 선택하는 방법\n",
    "#!/usr/bin/env python3\n",
    "import pandas as pd\n",
    "\n",
    "input_file = '/Users/henry/Desktop/sales_2013.xlsx'\n",
    "output_file = '/Users/henry/Desktop/sales_2013_qq.xls'\n",
    "\n",
    "data_frame = pd.read_excel(input_file, 'january_2013', index_col=None)\n",
    "\n",
    "data_frame_column_by_index = data_frame.iloc[:,[1,4]]\n",
    "\n",
    "writer = pd.ExcelWriter(output_file)\n",
    "data_frame_column_by_index.to_excel(writer, sheet_name='jan_13_output', index=False)  \n",
    "print(data_frame_column_by_index)"
   ]
  },
  {
   "cell_type": "markdown",
   "metadata": {},
   "source": [
    "1. XlsxWriter를 엔진으로 사용하여 팬더 엑셀 작성자를 만듭니다.\n",
    "2. to_excel: 데이터 프레임을 XlsxWriter Excel 개체로 변환합니다.\n",
    "3. iloc를 통해 1번, 4번에 해당되는 데이터만을 가져왔다. 1번은 네임, 4번은 데이트."
   ]
  },
  {
   "cell_type": "markdown",
   "metadata": {},
   "source": [
    "## 열 헤더를 사용하여 특정 열 선택하기"
   ]
  },
  {
   "cell_type": "code",
   "execution_count": 9,
   "metadata": {},
   "outputs": [
    {
     "name": "stdout",
     "output_type": "stream",
     "text": [
      "   Customer ID Purchase Date\n",
      "0         1234    2013-01-01\n",
      "1         2345    2013-01-06\n",
      "2         3456    2013-01-11\n",
      "3         4567    2013-01-08\n",
      "4         5678    2013-01-24\n",
      "5         6789    2013-01-31\n"
     ]
    }
   ],
   "source": [
    "#!/usr/bin/env python3\n",
    "import pandas as pd\n",
    "\n",
    "input_file = '/Users/henry/Desktop/sales_2013.xlsx'\n",
    "output_file = '/Users/henry/Desktop/sales_2013_ww.xls'\n",
    "\n",
    "data_frame = pd.read_excel(input_file, 'january_2013', index_col=None)\n",
    "\n",
    "data_frame_column_by_name = data_frame.loc[:, ['Customer ID', 'Purchase Date']]\n",
    "\n",
    "writer = pd.ExcelWriter(output_file)\n",
    "data_frame_column_by_name.to_excel(writer, sheet_name='jan_13_output', index=False)\n",
    "print(data_frame_column_by_name)"
   ]
  },
  {
   "cell_type": "markdown",
   "metadata": {},
   "source": [
    "1. 위와 같은 결과, 위는 iloc를 활용했고, 아래는 loc를 활용. iloc와 loc는 안영님이 엄청 잘 정리해주심."
   ]
  },
  {
   "cell_type": "markdown",
   "metadata": {},
   "source": [
    "# 3.3 통합 문서의 모든 워크시트 읽기"
   ]
  },
  {
   "cell_type": "markdown",
   "metadata": {},
   "source": [
    "## 모든 워크시트에서 특정 행 필터링하기"
   ]
  },
  {
   "cell_type": "code",
   "execution_count": 24,
   "metadata": {},
   "outputs": [
    {
     "name": "stdout",
     "output_type": "stream",
     "text": [
      "[Empty DataFrame\n",
      "Columns: [Customer ID, Customer Name, Invoice Number, Sale Amount, Purchase Date]\n",
      "Index: [],    Customer ID Customer Name Invoice Number  Sale Amount Purchase Date\n",
      "2         7654  Roger Lipney       100-0010         2135    2013-02-15,    Customer ID  Customer Name Invoice Number  Sale Amount Purchase Date\n",
      "3         6543     Rachel Paz       100-0017         2042    2013-03-22\n",
      "5         4321  Susan Wallace       100-0019         2280    2013-03-30]\n"
     ]
    }
   ],
   "source": [
    "#모든 워크시트에서 Sale Amount 열의 데이터 값이 $2,000.00 이상인 모든 행을 필터링\n",
    "#!/usr/bin/env python3\n",
    "import pandas as pd\n",
    "\n",
    "input_file = '/Users/henry/Desktop/sales_2013.xlsx'\n",
    "output_file = '/Users/henry/Desktop/sales_2013_buza.xls'\n",
    "\n",
    "data_frame = pd.read_excel(input_file, sheetname=None, index_col=None) \n",
    "\n",
    "row_output = []\n",
    "for worksheet_name, data in data_frame.items():\n",
    "    row_output.append(data[data['Sale Amount'].replace('$','').replace(',','').astype(float) > 2000.0])\n",
    "    filtered_row = pd.concat(row_output, axis=0, ignore_index=True)\n",
    "    \n",
    "writer = pd.ExcelWriter(output_file)\n",
    "filtered_row.to_excel(writer, sheet_name='sale_amount_gt2000', index=False)\n",
    "print(row_output)"
   ]
  },
  {
   "cell_type": "markdown",
   "metadata": {},
   "source": [
    "1. sheetname을 None으로 하면 한 번에 통합 문서의 모든 워크시트를 읽는다.\n",
    "2. append: 리스트의 맨 마지막에 새로운 요소를 추가하는 것\n",
    "3. replace(\"찾을값\", \"바꿀값\", [바꿀횟수])\n",
    "4. concat : concatenation. 연결을 뜻함.\n",
    "5. axis가 뭔데?"
   ]
  },
  {
   "cell_type": "markdown",
   "metadata": {},
   "source": [
    "## 모든 워크시트에서 특정 열 선택하기"
   ]
  },
  {
   "cell_type": "code",
   "execution_count": 25,
   "metadata": {},
   "outputs": [
    {
     "name": "stdout",
     "output_type": "stream",
     "text": [
      "        Customer Name  Sale Amount\n",
      "0          John Smith         1200\n",
      "1       Mary Harrison         1425\n",
      "2          Lucy Gomez         1390\n",
      "3        Rupert Jones         1257\n",
      "4       Jenny Walters         1725\n",
      "5  Samantha Donaldson         1995\n",
      "0       Daniel Farber         1115\n",
      "1         Laney Stone         1367\n",
      "2        Roger Lipney         2135\n",
      "3       Thomas Haines         1346\n",
      "4         Anushka Vaz         1560\n",
      "5       Harret Cooper         1852\n",
      "0          John Smith         1350\n",
      "1           Tony Song         1167\n",
      "2       Maty Harrison         1789\n",
      "3          Rachel Paz         2042\n",
      "4          Lucy Gomez         1511\n",
      "5       Susan Wallace         2280\n"
     ]
    }
   ],
   "source": [
    "#!/usr/bin/env python3\n",
    "import pandas as pd\n",
    "\n",
    "input_file = '/Users/henry/Desktop/sales_2013.xlsx'\n",
    "output_file = '/Users/henry/Desktop/sales_2013_wa.xls'\n",
    "\n",
    "data_frame = pd.read_excel(input_file, sheetname =None, index_col=None)\n",
    "\n",
    "column_output = []\n",
    "for worksheet_name, data in data_frame.items(): \n",
    "    column_output.append(data.loc[:, ['Customer Name', 'Sale Amount']])\n",
    "selected_columns = pd.concat(column_output, axis=0, ignore_index=False)\n",
    "\n",
    "writer = pd.ExcelWriter(output_file)\n",
    "selected_columns.to_excel(writer, sheet_name='selected_columns_all_worksheets', index=False)\n",
    "print(selected_columns)"
   ]
  },
  {
   "cell_type": "markdown",
   "metadata": {},
   "source": [
    "1. 딕셔너리의 Key와 Value의 쌍으로 구성된 아이템들의 리스트를 얻는 것\n",
    "2. loc를 사용하여 각 워크시트의 특정 열을 선택하여 필터링된 데이터프레임의 리스트를 만들고, 데이터프레임들을 하나의 최종적인 데이터프레임으로 합친다.\n",
    "3. ignore_index가 먹은 건가??"
   ]
  },
  {
   "cell_type": "markdown",
   "metadata": {},
   "source": [
    "# 이 책은 정말 입문이라는 단어를 지워버려야 한다.\n",
    "# 이걸 안 보고 내가 할 수 있을까? 라는 생각이 든다.\n",
    "# 그래도 이제 쪼금~~ 읽을 수는 있을 것 같다.(판다스만)\n",
    "# 반복숙달만이.."
   ]
  }
 ],
 "metadata": {
  "kernelspec": {
   "display_name": "Python 3",
   "language": "python",
   "name": "python3"
  },
  "language_info": {
   "codemirror_mode": {
    "name": "ipython",
    "version": 3
   },
   "file_extension": ".py",
   "mimetype": "text/x-python",
   "name": "python",
   "nbconvert_exporter": "python",
   "pygments_lexer": "ipython3",
   "version": "3.6.3"
  }
 },
 "nbformat": 4,
 "nbformat_minor": 2
}
