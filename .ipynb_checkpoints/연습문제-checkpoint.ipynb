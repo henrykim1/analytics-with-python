{
 "cells": [
  {
   "cell_type": "code",
   "execution_count": 42,
   "metadata": {
    "scrolled": true
   },
   "outputs": [
    {
     "name": "stdout",
     "output_type": "stream",
     "text": [
      "Output #1: [1, 2, 3, 4, 5, 6, 7, 8, 9]\n",
      "Output #2: [1, 2, 3, 4, 5, 6, 7, 8, 9]\n",
      "Output #3:\n",
      "0: 1\n",
      "1: 2\n",
      "2: 3\n",
      "3: 4\n",
      "4: 5\n",
      "5: 6\n",
      "6: 7\n",
      "7: 8\n",
      "8: 9\n"
     ]
    }
   ],
   "source": [
    "#1. 새로운 파이썬 스크립트를 만들고, 세 가지 다른 리스트를 만들고, 각 리스트를 합쳐보자. \n",
    "#그 다음 for 문과 각 리스트를 반복한 위치 인덱스(즉 range(len()))를 이용하여 화면에 리스트의 인덱스와 해당하는 값을 출력해보자.\n",
    "\n",
    "x = [1,2,3]\n",
    "y = [4,5,6]\n",
    "z = [7,8,9]\n",
    "i = x+y+z\n",
    "print(\"Output #1: {}\".format(x+y+z))\n",
    "print(\"Output #2: {}\".format(i))\n",
    "\n",
    "print(\"Output #3:\")\n",
    "for v in range(len(i)):\n",
    "    print(\"{0!s}: {1:d}\".format(v, i[v]))\n"
   ]
  },
  {
   "cell_type": "code",
   "execution_count": 44,
   "metadata": {},
   "outputs": [
    {
     "name": "stdout",
     "output_type": "stream",
     "text": [
      "Output #1: ['bab', 'rar', 'rer', 'rr', 'qq', 'de', 'tw', 'wer', 'dv']\n",
      "Output #2: ['bab', 'rar', 'rer', 'rr', 'qq', 'de', 'tw', 'wer', 'dv']\n",
      "Output #3:\n",
      "0: bab\n",
      "1: rar\n",
      "2: rer\n",
      "3: rr\n",
      "4: qq\n",
      "5: de\n",
      "6: tw\n",
      "7: wer\n",
      "8: dv\n"
     ]
    }
   ],
   "source": [
    "#1. 새로운 파이썬 스크립트를 만들고, 세 가지 다른 리스트를 만들고, 각 리스트를 합쳐보자. \n",
    "#그 다음 for 문과 각 리스트를 반복한 위치 인덱스(즉 range(len()))를 이용하여 화면에 리스트의 인덱스와 해당하는 값을 출력해보자.\n",
    "\n",
    "x = ['bab','rar','rer']\n",
    "y = ['rr','qq','de']\n",
    "z = ['tw','wer','dv']\n",
    "i = x+y+z\n",
    "print(\"Output #1: {}\".format(x+y+z))\n",
    "print(\"Output #2: {}\".format(i))\n",
    "\n",
    "print(\"Output #3:\")\n",
    "for v in range(len(i)):\n",
    "    print(\"{0!s}: {1:s}\".format(v, i[v]))\n",
    "\n"
   ]
  },
  {
   "cell_type": "code",
   "execution_count": 51,
   "metadata": {},
   "outputs": [
    {
     "name": "stdout",
     "output_type": "stream",
     "text": [
      "Output #4:\n",
      "0: a\n",
      "1: b\n",
      "2: c\n",
      "3: aa\n",
      "4: bb\n",
      "5: cc\n"
     ]
    }
   ],
   "source": [
    "#1. 새로운 파이썬 스크립트를 만들고, 세 가지 다른 리스트를 만들고, 각 리스트를 합쳐보자. \n",
    "#그 다음 for 문과 각 리스트를 반복한 위치 인덱스(즉 range(len()))를 이용하여 화면에 리스트의 인덱스와 해당하는 값을 출력해보자.\n",
    "\n",
    "x = ['a','b','c']\n",
    "y = ['aa','bb','cc']\n",
    "list2 = x+y\n",
    "print(\"Output #4:\")\n",
    "for i in range(len(list2)):\n",
    "    print(\"{0!s}: {1:s}\".format(i, list2[i]))"
   ]
  },
  {
   "cell_type": "code",
   "execution_count": 63,
   "metadata": {},
   "outputs": [
    {
     "name": "stdout",
     "output_type": "stream",
     "text": [
      "Output #5:\n",
      "key is a, value is ['aa']\n",
      "key is b, value is ['bb']\n",
      "key is c, value is ['cc']\n"
     ]
    }
   ],
   "source": [
    "#2. 새로운 파이썬 스크립트를 만들고 동일한 길이를 가진 리스트 두 개를 만든다. \n",
    "#이 중 하나의 리스트에는 서로 고유한 문자열을 넣고, 빈 딕셔너리를 하나 추가로 만든다. \n",
    "#그 다음 for문과 위치 인덱스, 그리고 고유한 문자열을 지닌 리스트의 각 값들이 이미 딕셔너리에 있는 키인지 확인하는 if문을 작성한다.\n",
    "#만약 딕셔너리에 없는 문자열이라면, 딕셔너리에 키를 저장하고, 동일한 위치에 있는 다른 리스트의 값을 해당 키와 연관된 값으로 추가한다.\n",
    "#마지막으로 화면에 딕셔너리의 키와 각 연관된 값을 출력한다.\n",
    "\n",
    "x = ['a','b','c']\n",
    "y = ['aa','bb','cc']\n",
    "dic = {}\n",
    "\n",
    "print(\"Output #5:\")\n",
    "for index in range(len(x)):\n",
    "    if x[index] not in dic:\n",
    "        dic[x[index]] = [y[index]]\n",
    "    \n",
    "for key, value in dic.items():\n",
    "    print(\"key is {}, value is {}\".format(key, value))"
   ]
  },
  {
   "cell_type": "code",
   "execution_count": 76,
   "metadata": {},
   "outputs": [
    {
     "name": "stdout",
     "output_type": "stream",
     "text": [
      "탈락\n",
      "탈락\n",
      "통과\n",
      "통과\n"
     ]
    }
   ],
   "source": [
    "#for문 좀 잘해보자. 연습\n",
    "#시험 본 학생이 75점 이상이면 통과, 아니면 탈락을 보여줘야한다.\n",
    "\n",
    "point = [60, 74, 90, 100]\n",
    "number = 0\n",
    "for number in point:\n",
    "    if number >= 75:\n",
    "        print(\"통과\")\n",
    "    elif number < 75:\n",
    "        print(\"탈락\")"
   ]
  },
  {
   "cell_type": "code",
   "execution_count": 93,
   "metadata": {},
   "outputs": [
    {
     "name": "stdout",
     "output_type": "stream",
     "text": [
      "55\n"
     ]
    }
   ],
   "source": [
    "a = 0\n",
    "for k in range(1,11):\n",
    "    a = a + k\n",
    "print(a)\n",
    "\n",
    "#이해가 1도 안된다."
   ]
  },
  {
   "cell_type": "code",
   "execution_count": null,
   "metadata": {
    "collapsed": true
   },
   "outputs": [],
   "source": [
    "#3. 새로운 파이썬 스크립트를 만들고, 동일한 길이의 리스트들로 구성된 리스트를 하나 만든다. 이 리스트로 된 리스트를 반복 처리하기 위해 1.7.2절에서\n",
    "#작성한 코드를 수정해보자. 그 다음 각 리스트에 있는 값을 쉼표로 구분하되 마지막 값 뒤에는 개행문자를 붙여 화면에 출력해보자."
   ]
  }
 ],
 "metadata": {
  "kernelspec": {
   "display_name": "Python 3",
   "language": "python",
   "name": "python3"
  },
  "language_info": {
   "codemirror_mode": {
    "name": "ipython",
    "version": 3
   },
   "file_extension": ".py",
   "mimetype": "text/x-python",
   "name": "python",
   "nbconvert_exporter": "python",
   "pygments_lexer": "ipython3",
   "version": "3.6.3"
  }
 },
 "nbformat": 4,
 "nbformat_minor": 2
}
